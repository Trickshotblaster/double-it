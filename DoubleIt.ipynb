{
  "nbformat": 4,
  "nbformat_minor": 0,
  "metadata": {
    "colab": {
      "provenance": [],
      "authorship_tag": "ABX9TyO30KWeqvssM5YyKRm8uXQo",
      "include_colab_link": true
    },
    "kernelspec": {
      "name": "python3",
      "display_name": "Python 3"
    },
    "language_info": {
      "name": "python"
    }
  },
  "cells": [
    {
      "cell_type": "markdown",
      "metadata": {
        "id": "view-in-github",
        "colab_type": "text"
      },
      "source": [
        "<a href=\"https://colab.research.google.com/github/Trickshotblaster/double-it/blob/master/DoubleIt.ipynb\" target=\"_parent\"><img src=\"https://colab.research.google.com/assets/colab-badge.svg\" alt=\"Open In Colab\"/></a>"
      ]
    },
    {
      "cell_type": "code",
      "source": [
        "import torch\n",
        "import progressbar\n",
        "from time import sleep"
      ],
      "metadata": {
        "id": "CDFdyh3xaL5X"
      },
      "execution_count": 1,
      "outputs": []
    },
    {
      "cell_type": "code",
      "source": [
        "num_epochs = 1000"
      ],
      "metadata": {
        "id": "q6GirTFOaOsl"
      },
      "execution_count": 2,
      "outputs": []
    },
    {
      "cell_type": "code",
      "execution_count": 3,
      "metadata": {
        "colab": {
          "base_uri": "https://localhost:8080/"
        },
        "id": "mzlAzNHQaHnz",
        "outputId": "02367810-2863-40f9-f65d-93f0239cdf2d"
      },
      "outputs": [
        {
          "output_type": "stream",
          "name": "stderr",
          "text": [
            "[                                                                        ]   1%"
          ]
        },
        {
          "output_type": "stream",
          "name": "stdout",
          "text": [
            "Training a neural net to multiply your inputs by 2\n",
            "Going though a completely unnecessary number of epochs so you can see the progress bar :,)\n"
          ]
        },
        {
          "output_type": "stream",
          "name": "stderr",
          "text": [
            "[========================================================================] 100%\n"
          ]
        },
        {
          "output_type": "stream",
          "name": "stdout",
          "text": [
            "final loss: 1.7658897144578502e-14\n"
          ]
        }
      ],
      "source": [
        "print(\"Training a neural net to multiply your inputs by 2\")\n",
        "print(\"Going though a completely unnecessary number of epochs so you can see the progress bar :,)\")\n",
        "\n",
        "bar = progressbar.ProgressBar(maxval=num_epochs, widgets=[progressbar.Bar('=', '[', ']'), ' ', progressbar.Percentage()])\n",
        "bar.start()\n",
        "\n",
        "\n",
        "w1 = torch.randn((1, 2), requires_grad=True)\n",
        "b1 = torch.randn((2), requires_grad=True)\n",
        "w2 = torch.randn((2, 1), requires_grad=True)\n",
        "b2 = torch.randn((1), requires_grad=True)\n",
        "\n",
        "params = [w1, b1, w2, b2]\n",
        "for epoch in range(num_epochs):\n",
        "    ins = torch.randn(10000, 1)\n",
        "    l1 = ins @ w1 + b1\n",
        "    out = l1 @ w2 + b2\n",
        "    y = ins * 2\n",
        "    loss = ((y-out)**2).mean()\n",
        "    for p in params:\n",
        "        p.grad = None\n",
        "    loss.backward()\n",
        "    for p in params:\n",
        "        p.data += p.grad * -0.1\n",
        "    bar.update(epoch+1)\n",
        "\n",
        "bar.finish()\n",
        "print(\"final loss:\", loss.item())\n"
      ]
    },
    {
      "cell_type": "code",
      "source": [
        "while True:\n",
        "    textin = input(\"Test the network:\")\n",
        "    if textin == \"quit\":\n",
        "        break\n",
        "    testin = torch.tensor(int(textin)).view(1, 1).float()\n",
        "    l1 = testin @ w1 + b1\n",
        "    out = l1 @ w2 + b2\n",
        "    print(\"Net prediction:\", out.item(), \"actual answer:\", (testin*2).item())"
      ],
      "metadata": {
        "colab": {
          "base_uri": "https://localhost:8080/"
        },
        "id": "y_jOFD5JaUzx",
        "outputId": "2aba5057-eae1-4755-b077-60808fb4aa6d"
      },
      "execution_count": 5,
      "outputs": [
        {
          "name": "stdout",
          "output_type": "stream",
          "text": [
            "Test the network:2\n",
            "Net prediction: 4.0 actual answer: 4.0\n",
            "Test the network:-69\n",
            "Net prediction: -138.0 actual answer: -138.0\n",
            "Test the network:420\n",
            "Net prediction: 840.0 actual answer: 840.0\n",
            "Test the network:1000069\n",
            "Net prediction: 2000138.125 actual answer: 2000138.0\n",
            "Test the network:quit\n"
          ]
        }
      ]
    }
  ]
}